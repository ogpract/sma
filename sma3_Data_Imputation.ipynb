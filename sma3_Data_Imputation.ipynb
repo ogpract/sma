{
 "cells": [
  {
   "cell_type": "code",
   "execution_count": 1,
   "id": "931051e7",
   "metadata": {},
   "outputs": [
    {
     "name": "stdout",
     "output_type": "stream",
     "text": [
      "Requirement already satisfied: pandas in c:\\users\\sonu\\appdata\\local\\programs\\python\\python310\\lib\\site-packages (2.2.3)\n",
      "Requirement already satisfied: seaborn in c:\\users\\sonu\\appdata\\local\\programs\\python\\python310\\lib\\site-packages (0.13.2)\n",
      "Requirement already satisfied: numpy in c:\\users\\sonu\\appdata\\local\\programs\\python\\python310\\lib\\site-packages (1.26.4)\n",
      "Requirement already satisfied: python-dateutil>=2.8.2 in c:\\users\\sonu\\appdata\\local\\programs\\python\\python310\\lib\\site-packages (from pandas) (2.9.0.post0)\n",
      "Requirement already satisfied: pytz>=2020.1 in c:\\users\\sonu\\appdata\\local\\programs\\python\\python310\\lib\\site-packages (from pandas) (2025.2)\n",
      "Requirement already satisfied: tzdata>=2022.7 in c:\\users\\sonu\\appdata\\local\\programs\\python\\python310\\lib\\site-packages (from pandas) (2025.1)\n",
      "Requirement already satisfied: matplotlib!=3.6.1,>=3.4 in c:\\users\\sonu\\appdata\\local\\programs\\python\\python310\\lib\\site-packages (from seaborn) (3.10.1)\n",
      "Requirement already satisfied: contourpy>=1.0.1 in c:\\users\\sonu\\appdata\\local\\programs\\python\\python310\\lib\\site-packages (from matplotlib!=3.6.1,>=3.4->seaborn) (1.3.1)\n",
      "Requirement already satisfied: cycler>=0.10 in c:\\users\\sonu\\appdata\\local\\programs\\python\\python310\\lib\\site-packages (from matplotlib!=3.6.1,>=3.4->seaborn) (0.12.1)\n",
      "Requirement already satisfied: fonttools>=4.22.0 in c:\\users\\sonu\\appdata\\local\\programs\\python\\python310\\lib\\site-packages (from matplotlib!=3.6.1,>=3.4->seaborn) (4.56.0)\n",
      "Requirement already satisfied: kiwisolver>=1.3.1 in c:\\users\\sonu\\appdata\\local\\programs\\python\\python310\\lib\\site-packages (from matplotlib!=3.6.1,>=3.4->seaborn) (1.4.8)\n",
      "Requirement already satisfied: packaging>=20.0 in c:\\users\\sonu\\appdata\\local\\programs\\python\\python310\\lib\\site-packages (from matplotlib!=3.6.1,>=3.4->seaborn) (24.2)\n",
      "Requirement already satisfied: pillow>=8 in c:\\users\\sonu\\appdata\\local\\programs\\python\\python310\\lib\\site-packages (from matplotlib!=3.6.1,>=3.4->seaborn) (10.2.0)\n",
      "Requirement already satisfied: pyparsing>=2.3.1 in c:\\users\\sonu\\appdata\\local\\programs\\python\\python310\\lib\\site-packages (from matplotlib!=3.6.1,>=3.4->seaborn) (3.2.1)\n",
      "Requirement already satisfied: six>=1.5 in c:\\users\\sonu\\appdata\\local\\programs\\python\\python310\\lib\\site-packages (from python-dateutil>=2.8.2->pandas) (1.17.0)\n"
     ]
    }
   ],
   "source": [
    "!pip install pandas seaborn numpy\n",
    "\n",
    "import pandas as pd\n",
    "import seaborn as sns\n",
    "import numpy as np\n"
   ]
  },
  {
   "cell_type": "code",
   "execution_count": 2,
   "id": "95933e99",
   "metadata": {},
   "outputs": [
    {
     "name": "stdout",
     "output_type": "stream",
     "text": [
      "Original Data (First 10 rows):\n",
      "   sepal_length  sepal_width  petal_length  petal_width species\n",
      "0           5.1          3.5           1.4          0.2  setosa\n",
      "1           4.9          3.0           1.4          0.2  setosa\n",
      "2           4.7          NaN           1.3          0.2  setosa\n",
      "3           4.6          NaN           1.5          0.2  setosa\n",
      "4           5.0          3.6           1.4          0.2  setosa\n",
      "5           5.4          3.9           NaN          0.4  setosa\n",
      "6           4.6          3.4           NaN          0.3  setosa\n",
      "7           5.0          3.4           1.5          0.2  setosa\n",
      "8           4.4          2.9           1.4          0.2  setosa\n",
      "9           4.9          3.1           1.5          0.1  setosa\n"
     ]
    }
   ],
   "source": [
    "# Load the iris dataset from seaborn\n",
    "df = sns.load_dataset('iris')\n",
    "\n",
    "# Introduce some NaN values in numeric columns for demonstration\n",
    "df.loc[2:3, 'sepal_width'] = np.nan\n",
    "df.loc[5:6, 'petal_length'] = np.nan\n",
    "# 1. Display first 10 rows of the original data\n",
    "print(\"Original Data (First 10 rows):\")\n",
    "print(df.head(10))\n"
   ]
  },
  {
   "cell_type": "code",
   "execution_count": 3,
   "id": "5df7a8fe",
   "metadata": {},
   "outputs": [
    {
     "name": "stdout",
     "output_type": "stream",
     "text": [
      "\n",
      "Null Values in Dataset:\n",
      "sepal_length    0\n",
      "sepal_width     2\n",
      "petal_length    2\n",
      "petal_width     0\n",
      "species         0\n",
      "dtype: int64\n"
     ]
    }
   ],
   "source": [
    "print(\"\\nNull Values in Dataset:\")\n",
    "print(df.isnull().sum())\n"
   ]
  },
  {
   "cell_type": "code",
   "execution_count": 4,
   "id": "93dc3d4c",
   "metadata": {},
   "outputs": [
    {
     "name": "stdout",
     "output_type": "stream",
     "text": [
      "\n",
      "Mean of Numeric Columns:\n",
      "sepal_length    5.843333\n",
      "sepal_width     3.056081\n",
      "petal_length    3.787838\n",
      "petal_width     1.199333\n",
      "dtype: float64\n",
      "\n",
      "Median of Numeric Columns:\n",
      "sepal_length    5.8\n",
      "sepal_width     3.0\n",
      "petal_length    4.4\n",
      "petal_width     1.3\n",
      "dtype: float64\n",
      "\n",
      "Mode of Numeric Columns:\n",
      "sepal_length    5.0\n",
      "sepal_width     3.0\n",
      "petal_length    1.5\n",
      "petal_width     0.2\n",
      "Name: 0, dtype: float64\n"
     ]
    }
   ],
   "source": [
    "# Determine which columns are numeric\n",
    "numeric_cols = df.select_dtypes(include=['number']).columns\n",
    "\n",
    "print(\"\\nMean of Numeric Columns:\")\n",
    "print(df[numeric_cols].mean())\n",
    "\n",
    "print(\"\\nMedian of Numeric Columns:\")\n",
    "print(df[numeric_cols].median())\n",
    "\n",
    "print(\"\\nMode of Numeric Columns:\")\n",
    "print(df[numeric_cols].mode().iloc[0])\n"
   ]
  },
  {
   "cell_type": "code",
   "execution_count": 5,
   "id": "b1cd8082",
   "metadata": {},
   "outputs": [
    {
     "name": "stdout",
     "output_type": "stream",
     "text": [
      "\n",
      "Data after replacing NaNs with Mean:\n",
      "   sepal_length  sepal_width  petal_length  petal_width species\n",
      "0           5.1     3.500000      1.400000          0.2  setosa\n",
      "1           4.9     3.000000      1.400000          0.2  setosa\n",
      "2           4.7     3.056081      1.300000          0.2  setosa\n",
      "3           4.6     3.056081      1.500000          0.2  setosa\n",
      "4           5.0     3.600000      1.400000          0.2  setosa\n",
      "5           5.4     3.900000      3.787838          0.4  setosa\n",
      "6           4.6     3.400000      3.787838          0.3  setosa\n",
      "7           5.0     3.400000      1.500000          0.2  setosa\n",
      "8           4.4     2.900000      1.400000          0.2  setosa\n",
      "9           4.9     3.100000      1.500000          0.1  setosa\n"
     ]
    }
   ],
   "source": [
    "df_mean = df.copy()\n",
    "df_mean[numeric_cols] = df_mean[numeric_cols].fillna(df_mean[numeric_cols].mean())\n",
    "\n",
    "print(\"\\nData after replacing NaNs with Mean:\")\n",
    "print(df_mean.head(10))\n"
   ]
  },
  {
   "cell_type": "code",
   "execution_count": 6,
   "id": "09842c00",
   "metadata": {},
   "outputs": [
    {
     "name": "stdout",
     "output_type": "stream",
     "text": [
      "\n",
      "Data after replacing NaNs with Median:\n",
      "   sepal_length  sepal_width  petal_length  petal_width species\n",
      "0           5.1          3.5           1.4          0.2  setosa\n",
      "1           4.9          3.0           1.4          0.2  setosa\n",
      "2           4.7          3.0           1.3          0.2  setosa\n",
      "3           4.6          3.0           1.5          0.2  setosa\n",
      "4           5.0          3.6           1.4          0.2  setosa\n",
      "5           5.4          3.9           4.4          0.4  setosa\n",
      "6           4.6          3.4           4.4          0.3  setosa\n",
      "7           5.0          3.4           1.5          0.2  setosa\n",
      "8           4.4          2.9           1.4          0.2  setosa\n",
      "9           4.9          3.1           1.5          0.1  setosa\n"
     ]
    }
   ],
   "source": [
    "df_median = df.copy()\n",
    "df_median[numeric_cols] = df_median[numeric_cols].fillna(df_median[numeric_cols].median())\n",
    "\n",
    "print(\"\\nData after replacing NaNs with Median:\")\n",
    "print(df_median.head(10))\n"
   ]
  },
  {
   "cell_type": "code",
   "execution_count": 7,
   "id": "d3974fea",
   "metadata": {},
   "outputs": [
    {
     "name": "stdout",
     "output_type": "stream",
     "text": [
      "\n",
      "Data after replacing NaNs with Mode:\n",
      "   sepal_length  sepal_width  petal_length  petal_width species\n",
      "0           5.1          3.5           1.4          0.2  setosa\n",
      "1           4.9          3.0           1.4          0.2  setosa\n",
      "2           4.7          3.0           1.3          0.2  setosa\n",
      "3           4.6          3.0           1.5          0.2  setosa\n",
      "4           5.0          3.6           1.4          0.2  setosa\n",
      "5           5.4          3.9           1.5          0.4  setosa\n",
      "6           4.6          3.4           1.5          0.3  setosa\n",
      "7           5.0          3.4           1.5          0.2  setosa\n",
      "8           4.4          2.9           1.4          0.2  setosa\n",
      "9           4.9          3.1           1.5          0.1  setosa\n"
     ]
    }
   ],
   "source": [
    "# Imputation using Mode (for numeric columns only)\n",
    "df_mode = df.copy()\n",
    "mode_values = df[numeric_cols].mode().iloc[0]\n",
    "df_mode[numeric_cols] = df_mode[numeric_cols].fillna(mode_values)\n",
    "\n",
    "print(\"\\nData after replacing NaNs with Mode:\")\n",
    "print(df_mode.head(10))\n"
   ]
  },
  {
   "cell_type": "code",
   "execution_count": null,
   "id": "8bed6e1f",
   "metadata": {},
   "outputs": [],
   "source": []
  }
 ],
 "metadata": {
  "kernelspec": {
   "display_name": "Python 3",
   "language": "python",
   "name": "python3"
  },
  "language_info": {
   "codemirror_mode": {
    "name": "ipython",
    "version": 3
   },
   "file_extension": ".py",
   "mimetype": "text/x-python",
   "name": "python",
   "nbconvert_exporter": "python",
   "pygments_lexer": "ipython3",
   "version": "3.10.10"
  }
 },
 "nbformat": 4,
 "nbformat_minor": 5
}
